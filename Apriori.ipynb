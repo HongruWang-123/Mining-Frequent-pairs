{
  "nbformat": 4,
  "nbformat_minor": 0,
  "metadata": {
    "colab": {
      "provenance": [],
      "collapsed_sections": []
    },
    "kernelspec": {
      "name": "python3",
      "display_name": "Python 3"
    },
    "language_info": {
      "name": "python"
    }
  },
  "cells": [
    {
      "cell_type": "markdown",
      "source": [
        "##Load data"
      ],
      "metadata": {
        "id": "zZB_aynd_WBr"
      }
    },
    {
      "cell_type": "code",
      "execution_count": null,
      "metadata": {
        "id": "yytUP7R-vp_T"
      },
      "outputs": [],
      "source": [
        "import math\n",
        "import time\n",
        "import random\n",
        "start = time.time()\n",
        "def read_data():\n",
        "  all_data = []\n",
        "  with open('retail.txt', 'r') as file:\n",
        "    for line in file:\n",
        "      line_list = line.strip().split()\n",
        "      all_data.append(line_list)\n",
        "  return all_data\n",
        "#netflix.data retail.txt"
      ]
    },
    {
      "cell_type": "code",
      "source": [
        "# get transactions\n",
        "all_data = read_data()\n",
        "num_trans = len(all_data)\n",
        "print(num_trans)"
      ],
      "metadata": {
        "id": "piZQ9tey7n-3"
      },
      "execution_count": null,
      "outputs": []
    },
    {
      "cell_type": "markdown",
      "source": [
        "##Generate C1"
      ],
      "metadata": {
        "id": "3TnHjuATAO_E"
      }
    },
    {
      "cell_type": "code",
      "source": [
        "candidates = {}\n",
        "\n",
        "for basket in all_data:\n",
        "  for item in basket:\n",
        "    if item in candidates.keys():\n",
        "      candidates.update({item:(candidates[item]+1)})\n",
        "    else:\n",
        "      candidates.update({item:1})"
      ],
      "metadata": {
        "id": "9YQEuR-1Kwx8"
      },
      "execution_count": null,
      "outputs": []
    },
    {
      "cell_type": "markdown",
      "source": [
        "##Create find frequent method"
      ],
      "metadata": {
        "id": "nM9ArTOzCKXX"
      }
    },
    {
      "cell_type": "code",
      "source": [
        "def get_L(candidates,num_trans,min_support):\n",
        "  L = []\n",
        "  for key,value in candidates.items():\n",
        "    if value/num_trans >= min_support:\n",
        "      L.append(key)\n",
        "  return L"
      ],
      "metadata": {
        "id": "aubkCkTmCJz3"
      },
      "execution_count": null,
      "outputs": []
    },
    {
      "cell_type": "markdown",
      "source": [
        "##Generate L1\n"
      ],
      "metadata": {
        "id": "B7ZqvRztA5Uq"
      }
    },
    {
      "cell_type": "code",
      "source": [
        "# L = {}\n",
        "#min_support = 0.2\n",
        "min_support = 0.01\n",
        "L1 = get_L(candidates, num_trans, min_support)"
      ],
      "metadata": {
        "id": "WRVW0HP9A9fD"
      },
      "execution_count": null,
      "outputs": []
    },
    {
      "cell_type": "markdown",
      "source": [
        "##Prune dataset using L1"
      ],
      "metadata": {
        "id": "wFOwPLUUzbL9"
      }
    },
    {
      "cell_type": "code",
      "source": [
        "def prune_dataset(candidates,transactions):\n",
        "  pruned_dataset = []\n",
        "  for basket in transactions:\n",
        "    for item in basket:\n",
        "      if item in candidates:\n",
        "        pruned_dataset.append(basket)\n",
        "        break\n",
        "  return pruned_dataset\n",
        "\n",
        "pruned_dataset = prune_dataset(L1,all_data)\n",
        "print(len(pruned_dataset))"
      ],
      "metadata": {
        "id": "2WrJiRrCzaoO"
      },
      "execution_count": null,
      "outputs": []
    },
    {
      "cell_type": "markdown",
      "source": [
        "##Generate C2"
      ],
      "metadata": {
        "id": "kpRrYhStjQr_"
      }
    },
    {
      "cell_type": "code",
      "source": [
        "def generate_new_candidate(prev_candidates):\n",
        "  C = []\n",
        "  for i in range(len(prev_candidates)):\n",
        "    for j in range(i+1,len(prev_candidates)):\n",
        "      pair = (prev_candidates[i],prev_candidates[j])\n",
        "      C.append(pair)\n",
        "  return C\n",
        "\n",
        "C2_keys = generate_new_candidate(L1)\n",
        "print(len(C2_keys))\n",
        "initial_value = [0]*len(C2_keys)\n",
        "\n",
        "C2_initial = dict(zip(C2_keys, initial_value))\n",
        "\n",
        "\n",
        "def generate_C2(candidates, transactions):\n",
        "  for basket in transactions:\n",
        "    for key in candidates.keys():\n",
        "      if set(key).issubset(set(basket)):\n",
        "        candidates.update({key:candidates[key]+1})\n",
        "  return candidates\n",
        "\n",
        "C2 = generate_C2(C2_initial,pruned_dataset)\n"
      ],
      "metadata": {
        "id": "bomLRpJmjVMI"
      },
      "execution_count": null,
      "outputs": []
    },
    {
      "cell_type": "markdown",
      "source": [
        "##Generate L2"
      ],
      "metadata": {
        "id": "PWIo2IMKbYyF"
      }
    },
    {
      "cell_type": "code",
      "source": [
        "L2= get_L(C2, num_trans,min_support)\n",
        "print(L2)\n",
        "print(len(L2))\n",
        "print(\"--- seconds---\" , (time.time() - start))"
      ],
      "metadata": {
        "id": "GviRBOYmbbjE"
      },
      "execution_count": null,
      "outputs": []
    }
  ]
}